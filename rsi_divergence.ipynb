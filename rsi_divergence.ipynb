{
 "cells": [
  {
   "cell_type": "markdown",
   "id": "prescribed-frequency",
   "metadata": {},
   "source": [
    "# RSI Divergence Analysis"
   ]
  },
  {
   "cell_type": "code",
   "execution_count": 2,
   "id": "pharmaceutical-powell",
   "metadata": {},
   "outputs": [],
   "source": [
    "%load_ext memory_profiler"
   ]
  },
  {
   "cell_type": "code",
   "execution_count": 3,
   "id": "thousand-interference",
   "metadata": {},
   "outputs": [
    {
     "name": "stdout",
     "output_type": "stream",
     "text": [
      "peak memory: 99.29 MiB, increment: 0.94 MiB\n",
      "13.4 µs ± 236 ns per loop (mean ± std. dev. of 7 runs, 100000 loops each)\n"
     ]
    }
   ],
   "source": [
    "import pandas as pd \n",
    "import numpy as np\n",
    "import time\n",
    "%memit np.zeros(100000)\n",
    "%timeit np.zeros(100000)"
   ]
  },
  {
   "cell_type": "code",
   "execution_count": 54,
   "id": "anonymous-replica",
   "metadata": {},
   "outputs": [
    {
     "name": "stdout",
     "output_type": "stream",
     "text": [
      "Dataframe shape:(2192, 11)\n"
     ]
    },
    {
     "data": {
      "text/html": [
       "<div>\n",
       "<style scoped>\n",
       "    .dataframe tbody tr th:only-of-type {\n",
       "        vertical-align: middle;\n",
       "    }\n",
       "\n",
       "    .dataframe tbody tr th {\n",
       "        vertical-align: top;\n",
       "    }\n",
       "\n",
       "    .dataframe thead th {\n",
       "        text-align: right;\n",
       "    }\n",
       "</style>\n",
       "<table border=\"1\" class=\"dataframe\">\n",
       "  <thead>\n",
       "    <tr style=\"text-align: right;\">\n",
       "      <th></th>\n",
       "      <th>date</th>\n",
       "      <th>high</th>\n",
       "      <th>low</th>\n",
       "      <th>open</th>\n",
       "      <th>close</th>\n",
       "    </tr>\n",
       "  </thead>\n",
       "  <tbody>\n",
       "    <tr>\n",
       "      <th>0</th>\n",
       "      <td>1425168000</td>\n",
       "      <td>251.00</td>\n",
       "      <td>240.000121</td>\n",
       "      <td>240.000121</td>\n",
       "      <td>251.00000</td>\n",
       "    </tr>\n",
       "    <tr>\n",
       "      <th>1</th>\n",
       "      <td>1425254400</td>\n",
       "      <td>269.00</td>\n",
       "      <td>251.000000</td>\n",
       "      <td>252.000000</td>\n",
       "      <td>269.00000</td>\n",
       "    </tr>\n",
       "    <tr>\n",
       "      <th>2</th>\n",
       "      <td>1425340800</td>\n",
       "      <td>274.50</td>\n",
       "      <td>255.000000</td>\n",
       "      <td>268.000000</td>\n",
       "      <td>267.22000</td>\n",
       "    </tr>\n",
       "    <tr>\n",
       "      <th>3</th>\n",
       "      <td>1425427200</td>\n",
       "      <td>280.00</td>\n",
       "      <td>258.875000</td>\n",
       "      <td>258.875000</td>\n",
       "      <td>280.00000</td>\n",
       "    </tr>\n",
       "    <tr>\n",
       "      <th>4</th>\n",
       "      <td>1425513600</td>\n",
       "      <td>280.89</td>\n",
       "      <td>257.000000</td>\n",
       "      <td>257.000000</td>\n",
       "      <td>257.00012</td>\n",
       "    </tr>\n",
       "  </tbody>\n",
       "</table>\n",
       "</div>"
      ],
      "text/plain": [
       "         date    high         low        open      close\n",
       "0  1425168000  251.00  240.000121  240.000121  251.00000\n",
       "1  1425254400  269.00  251.000000  252.000000  269.00000\n",
       "2  1425340800  274.50  255.000000  268.000000  267.22000\n",
       "3  1425427200  280.00  258.875000  258.875000  280.00000\n",
       "4  1425513600  280.89  257.000000  257.000000  257.00012"
      ]
     },
     "execution_count": 54,
     "metadata": {},
     "output_type": "execute_result"
    }
   ],
   "source": [
    "n=14\n",
    "df = pd.read_csv(\"data/input/USDT_BTC_86400_1425168000_72.csv\")\n",
    "print(f\"Dataframe shape:{df.shape}\")\n",
    "df = df.drop(columns=['ts','period','currency_pair','volume','quoteVolume','quoteVolume','weightedAverage'])\n",
    "df.head()"
   ]
  },
  {
   "cell_type": "code",
   "execution_count": 29,
   "id": "obvious-milwaukee",
   "metadata": {},
   "outputs": [],
   "source": [
    "def get_rsi(df,n):\n",
    "    \n",
    "    delta = df.close - df.close.shift(1) \n",
    "    delta = delta.dropna()\n",
    "    \n",
    "    closeup = delta.mask(delta < 0, 0)\n",
    "    closedown = delta.mask(delta > 0,0).abs()\n",
    "\n",
    "    closeup[closeup.index[n-1]]= closeup[:n].mean()\n",
    "    closeup = closeup.drop(closeup.index[:n-1])\n",
    "    avg_closeup = closeup.ewm(com=n-1,adjust=False).mean()\n",
    "  \n",
    "    closedown[closedown.index[n-1]]= closedown[:n].mean()\n",
    "    closedown = closedown.drop(closedown.index[:n-1])\n",
    "    avg_closedown = closedown.ewm(com=n-1,adjust=False).mean()\n",
    "\n",
    "\n",
    "    rsi = avg_closeup / (avg_closedown + avg_closeup)\n",
    "    \n",
    "    return rsi"
   ]
  },
  {
   "cell_type": "code",
   "execution_count": 55,
   "id": "given-farming",
   "metadata": {},
   "outputs": [],
   "source": [
    "def rsi_divergence(df):\n",
    "    ema_price = df.close.ewm(span=13,min_periods=13).mean()\n",
    "    ema_rsi = df.rsi.ewm(span=13,min_periods=12).mean()\n",
    "    df['ema_price'] = ema_price\n",
    "    df['ema_rsi'] = ema_rsi\n",
    "    df['momentum_ema_price'] = df.ema_price - df.ema_price.shift(1)\n",
    "    df['momentum_ema_rsi'] = df.ema_rsi - df.ema_rsi.shift(1)\n",
    "    df['momentum_rsi'] = df.rsi - df.rsi.shift(1)\n",
    "    df['bull_divergence_1'] = np.where((df.momentum_ema_price < 0) & (df.momentum_ema_rsi > 0),1 ,0)\n",
    "    df['bull_divergence_2'] = np.where((df.momentum_ema_price < 0) & (df.momentum_rsi > 0),1 ,0)\n",
    "    \n",
    "    "
   ]
  },
  {
   "cell_type": "code",
   "execution_count": 56,
   "id": "metropolitan-uganda",
   "metadata": {},
   "outputs": [],
   "source": [
    "df['rsi'] = get_rsi(df,n)\n",
    "rsi_divergence(df)\n",
    "df\n",
    "df.to_csv(\"rsi_output.csv\")\n"
   ]
  }
 ],
 "metadata": {
  "kernelspec": {
   "display_name": "Python 3",
   "language": "python",
   "name": "python3"
  },
  "language_info": {
   "codemirror_mode": {
    "name": "ipython",
    "version": 3
   },
   "file_extension": ".py",
   "mimetype": "text/x-python",
   "name": "python",
   "nbconvert_exporter": "python",
   "pygments_lexer": "ipython3",
   "version": "3.8.5"
  }
 },
 "nbformat": 4,
 "nbformat_minor": 5
}
