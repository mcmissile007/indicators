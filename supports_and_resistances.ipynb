{
 "cells": [
  {
   "cell_type": "code",
   "execution_count": 1,
   "id": "visible-force",
   "metadata": {},
   "outputs": [],
   "source": [
    "%matplotlib widget\n",
    "\n",
    "import numpy as np\n",
    "from scipy.signal import argrelextrema\n",
    "from matplotlib import pyplot as plt\n",
    "import pandas as pd\n",
    "\n"
   ]
  },
  {
   "cell_type": "code",
   "execution_count": 2,
   "id": "interstate-batman",
   "metadata": {},
   "outputs": [],
   "source": [
    "x = np.array([2, 1, 2, 3, 2, 0, 1, 0])\n"
   ]
  },
  {
   "cell_type": "code",
   "execution_count": null,
   "id": "excessive-certification",
   "metadata": {},
   "outputs": [],
   "source": []
  },
  {
   "cell_type": "code",
   "execution_count": 3,
   "id": "annual-behavior",
   "metadata": {},
   "outputs": [],
   "source": [
    "r = argrelextrema(x, np.greater) #position of resistances"
   ]
  },
  {
   "cell_type": "code",
   "execution_count": 4,
   "id": "governing-light",
   "metadata": {},
   "outputs": [
    {
     "data": {
      "text/plain": [
       "(array([3, 6]),)"
      ]
     },
     "execution_count": 4,
     "metadata": {},
     "output_type": "execute_result"
    }
   ],
   "source": [
    "r"
   ]
  },
  {
   "cell_type": "code",
   "execution_count": 5,
   "id": "traditional-airplane",
   "metadata": {},
   "outputs": [],
   "source": [
    "s = argrelextrema(x, np.less) #position of supports"
   ]
  },
  {
   "cell_type": "code",
   "execution_count": 6,
   "id": "green-battle",
   "metadata": {},
   "outputs": [
    {
     "data": {
      "text/plain": [
       "(array([1, 5]),)"
      ]
     },
     "execution_count": 6,
     "metadata": {},
     "output_type": "execute_result"
    }
   ],
   "source": [
    "s"
   ]
  },
  {
   "cell_type": "code",
   "execution_count": 7,
   "id": "seasonal-vegetable",
   "metadata": {},
   "outputs": [
    {
     "data": {
      "text/html": [
       "<div>\n",
       "<style scoped>\n",
       "    .dataframe tbody tr th:only-of-type {\n",
       "        vertical-align: middle;\n",
       "    }\n",
       "\n",
       "    .dataframe tbody tr th {\n",
       "        vertical-align: top;\n",
       "    }\n",
       "\n",
       "    .dataframe thead th {\n",
       "        text-align: right;\n",
       "    }\n",
       "</style>\n",
       "<table border=\"1\" class=\"dataframe\">\n",
       "  <thead>\n",
       "    <tr style=\"text-align: right;\">\n",
       "      <th></th>\n",
       "      <th>epoch</th>\n",
       "      <th>high</th>\n",
       "      <th>low</th>\n",
       "      <th>open</th>\n",
       "      <th>close</th>\n",
       "      <th>volume</th>\n",
       "    </tr>\n",
       "    <tr>\n",
       "      <th>date</th>\n",
       "      <th></th>\n",
       "      <th></th>\n",
       "      <th></th>\n",
       "      <th></th>\n",
       "      <th></th>\n",
       "      <th></th>\n",
       "    </tr>\n",
       "  </thead>\n",
       "  <tbody>\n",
       "    <tr>\n",
       "      <th>2015-03-01 00:00:00</th>\n",
       "      <td>1425168000</td>\n",
       "      <td>240.000060</td>\n",
       "      <td>240.000060</td>\n",
       "      <td>240.000060</td>\n",
       "      <td>240.000060</td>\n",
       "      <td>0.000000</td>\n",
       "    </tr>\n",
       "    <tr>\n",
       "      <th>2015-03-01 00:05:00</th>\n",
       "      <td>1425168300</td>\n",
       "      <td>240.000060</td>\n",
       "      <td>240.000060</td>\n",
       "      <td>240.000060</td>\n",
       "      <td>240.000060</td>\n",
       "      <td>0.000000</td>\n",
       "    </tr>\n",
       "    <tr>\n",
       "      <th>2015-03-01 00:10:00</th>\n",
       "      <td>1425168600</td>\n",
       "      <td>240.000060</td>\n",
       "      <td>240.000060</td>\n",
       "      <td>240.000060</td>\n",
       "      <td>240.000060</td>\n",
       "      <td>0.000000</td>\n",
       "    </tr>\n",
       "    <tr>\n",
       "      <th>2015-03-01 00:15:00</th>\n",
       "      <td>1425168900</td>\n",
       "      <td>240.000060</td>\n",
       "      <td>240.000060</td>\n",
       "      <td>240.000060</td>\n",
       "      <td>240.000060</td>\n",
       "      <td>0.000000</td>\n",
       "    </tr>\n",
       "    <tr>\n",
       "      <th>2015-03-01 00:20:00</th>\n",
       "      <td>1425169200</td>\n",
       "      <td>240.000060</td>\n",
       "      <td>240.000060</td>\n",
       "      <td>240.000060</td>\n",
       "      <td>240.000060</td>\n",
       "      <td>0.000000</td>\n",
       "    </tr>\n",
       "    <tr>\n",
       "      <th>...</th>\n",
       "      <td>...</td>\n",
       "      <td>...</td>\n",
       "      <td>...</td>\n",
       "      <td>...</td>\n",
       "      <td>...</td>\n",
       "      <td>...</td>\n",
       "    </tr>\n",
       "    <tr>\n",
       "      <th>2021-03-31 23:35:00</th>\n",
       "      <td>1617233700</td>\n",
       "      <td>58802.587059</td>\n",
       "      <td>58761.857003</td>\n",
       "      <td>58801.000000</td>\n",
       "      <td>58762.000000</td>\n",
       "      <td>29415.195318</td>\n",
       "    </tr>\n",
       "    <tr>\n",
       "      <th>2021-03-31 23:40:00</th>\n",
       "      <td>1617234000</td>\n",
       "      <td>58798.268464</td>\n",
       "      <td>58744.683295</td>\n",
       "      <td>58762.000000</td>\n",
       "      <td>58795.050899</td>\n",
       "      <td>169054.589184</td>\n",
       "    </tr>\n",
       "    <tr>\n",
       "      <th>2021-03-31 23:45:00</th>\n",
       "      <td>1617234300</td>\n",
       "      <td>58866.551166</td>\n",
       "      <td>58795.050899</td>\n",
       "      <td>58795.050899</td>\n",
       "      <td>58810.585631</td>\n",
       "      <td>4315.762275</td>\n",
       "    </tr>\n",
       "    <tr>\n",
       "      <th>2021-03-31 23:50:00</th>\n",
       "      <td>1617234600</td>\n",
       "      <td>58786.410021</td>\n",
       "      <td>58709.119709</td>\n",
       "      <td>58786.410021</td>\n",
       "      <td>58718.472331</td>\n",
       "      <td>40985.687257</td>\n",
       "    </tr>\n",
       "    <tr>\n",
       "      <th>2021-03-31 23:55:00</th>\n",
       "      <td>1617234900</td>\n",
       "      <td>58782.756274</td>\n",
       "      <td>58658.655257</td>\n",
       "      <td>58723.298934</td>\n",
       "      <td>58743.337525</td>\n",
       "      <td>51866.295034</td>\n",
       "    </tr>\n",
       "  </tbody>\n",
       "</table>\n",
       "<p>639975 rows × 6 columns</p>\n",
       "</div>"
      ],
      "text/plain": [
       "                          epoch          high           low          open  \\\n",
       "date                                                                        \n",
       "2015-03-01 00:00:00  1425168000    240.000060    240.000060    240.000060   \n",
       "2015-03-01 00:05:00  1425168300    240.000060    240.000060    240.000060   \n",
       "2015-03-01 00:10:00  1425168600    240.000060    240.000060    240.000060   \n",
       "2015-03-01 00:15:00  1425168900    240.000060    240.000060    240.000060   \n",
       "2015-03-01 00:20:00  1425169200    240.000060    240.000060    240.000060   \n",
       "...                         ...           ...           ...           ...   \n",
       "2021-03-31 23:35:00  1617233700  58802.587059  58761.857003  58801.000000   \n",
       "2021-03-31 23:40:00  1617234000  58798.268464  58744.683295  58762.000000   \n",
       "2021-03-31 23:45:00  1617234300  58866.551166  58795.050899  58795.050899   \n",
       "2021-03-31 23:50:00  1617234600  58786.410021  58709.119709  58786.410021   \n",
       "2021-03-31 23:55:00  1617234900  58782.756274  58658.655257  58723.298934   \n",
       "\n",
       "                            close         volume  \n",
       "date                                              \n",
       "2015-03-01 00:00:00    240.000060       0.000000  \n",
       "2015-03-01 00:05:00    240.000060       0.000000  \n",
       "2015-03-01 00:10:00    240.000060       0.000000  \n",
       "2015-03-01 00:15:00    240.000060       0.000000  \n",
       "2015-03-01 00:20:00    240.000060       0.000000  \n",
       "...                           ...            ...  \n",
       "2021-03-31 23:35:00  58762.000000   29415.195318  \n",
       "2021-03-31 23:40:00  58795.050899  169054.589184  \n",
       "2021-03-31 23:45:00  58810.585631    4315.762275  \n",
       "2021-03-31 23:50:00  58718.472331   40985.687257  \n",
       "2021-03-31 23:55:00  58743.337525   51866.295034  \n",
       "\n",
       "[639975 rows x 6 columns]"
      ]
     },
     "execution_count": 7,
     "metadata": {},
     "output_type": "execute_result"
    }
   ],
   "source": [
    "min_period = 300\n",
    "N = 14\n",
    "df = pd.read_csv(f\"data/USDT_BTC_{min_period}_1425168000_73.csv\")\n",
    "df.rename(columns={'date':'epoch','ts':'date'},inplace=True)\n",
    "assert df.loc[0,'period'] == min_period, \"Error, period different from min_period\"\n",
    "assert df['period'].count() == df.shape[0], \"Error, period not always is min_period\" \n",
    "df.drop(columns=['period','currency_pair','quoteVolume','weightedAverage'],inplace=True)\n",
    "df['date'] = pd.to_datetime(df['date'])\n",
    "df.sort_values(by=\"date\") #just in case\n",
    "df.set_index('date',inplace=True)\n",
    "df"
   ]
  },
  {
   "cell_type": "code",
   "execution_count": 8,
   "id": "elementary-borough",
   "metadata": {},
   "outputs": [],
   "source": [
    "daily_df = df.resample('D').agg({'epoch':'first','high':'max','low':'min','open':'first','close':'last','volume':'sum'})"
   ]
  },
  {
   "cell_type": "code",
   "execution_count": 9,
   "id": "technical-morrison",
   "metadata": {},
   "outputs": [],
   "source": [
    "daily_df.reset_index(inplace=True)"
   ]
  },
  {
   "cell_type": "code",
   "execution_count": 10,
   "id": "indie-system",
   "metadata": {},
   "outputs": [],
   "source": [
    "resistances = argrelextrema(daily_df.high.to_numpy(),np.greater,order=4)"
   ]
  },
  {
   "cell_type": "code",
   "execution_count": 11,
   "id": "attached-object",
   "metadata": {},
   "outputs": [],
   "source": [
    "resistances = resistances[0]"
   ]
  },
  {
   "cell_type": "code",
   "execution_count": 12,
   "id": "atomic-vampire",
   "metadata": {},
   "outputs": [
    {
     "data": {
      "text/html": [
       "<div>\n",
       "<style scoped>\n",
       "    .dataframe tbody tr th:only-of-type {\n",
       "        vertical-align: middle;\n",
       "    }\n",
       "\n",
       "    .dataframe tbody tr th {\n",
       "        vertical-align: top;\n",
       "    }\n",
       "\n",
       "    .dataframe thead th {\n",
       "        text-align: right;\n",
       "    }\n",
       "</style>\n",
       "<table border=\"1\" class=\"dataframe\">\n",
       "  <thead>\n",
       "    <tr style=\"text-align: right;\">\n",
       "      <th></th>\n",
       "      <th>date</th>\n",
       "      <th>epoch</th>\n",
       "      <th>high</th>\n",
       "      <th>low</th>\n",
       "      <th>open</th>\n",
       "      <th>close</th>\n",
       "      <th>volume</th>\n",
       "    </tr>\n",
       "  </thead>\n",
       "  <tbody>\n",
       "    <tr>\n",
       "      <th>0</th>\n",
       "      <td>2015-03-01</td>\n",
       "      <td>1425168000</td>\n",
       "      <td>251.000000</td>\n",
       "      <td>240.000060</td>\n",
       "      <td>240.000060</td>\n",
       "      <td>251.000000</td>\n",
       "      <td>3.177152e-01</td>\n",
       "    </tr>\n",
       "    <tr>\n",
       "      <th>1</th>\n",
       "      <td>2015-03-02</td>\n",
       "      <td>1425254400</td>\n",
       "      <td>269.000000</td>\n",
       "      <td>251.000000</td>\n",
       "      <td>251.000000</td>\n",
       "      <td>269.000000</td>\n",
       "      <td>9.806380e+01</td>\n",
       "    </tr>\n",
       "    <tr>\n",
       "      <th>2</th>\n",
       "      <td>2015-03-03</td>\n",
       "      <td>1425340800</td>\n",
       "      <td>274.500000</td>\n",
       "      <td>255.000000</td>\n",
       "      <td>269.000000</td>\n",
       "      <td>267.220000</td>\n",
       "      <td>4.429831e+02</td>\n",
       "    </tr>\n",
       "    <tr>\n",
       "      <th>3</th>\n",
       "      <td>2015-03-04</td>\n",
       "      <td>1425427200</td>\n",
       "      <td>280.000000</td>\n",
       "      <td>258.875000</td>\n",
       "      <td>267.220000</td>\n",
       "      <td>280.000000</td>\n",
       "      <td>2.458890e+02</td>\n",
       "    </tr>\n",
       "    <tr>\n",
       "      <th>4</th>\n",
       "      <td>2015-03-05</td>\n",
       "      <td>1425513600</td>\n",
       "      <td>280.890000</td>\n",
       "      <td>257.000000</td>\n",
       "      <td>280.000000</td>\n",
       "      <td>257.000120</td>\n",
       "      <td>1.174407e+02</td>\n",
       "    </tr>\n",
       "    <tr>\n",
       "      <th>...</th>\n",
       "      <td>...</td>\n",
       "      <td>...</td>\n",
       "      <td>...</td>\n",
       "      <td>...</td>\n",
       "      <td>...</td>\n",
       "      <td>...</td>\n",
       "      <td>...</td>\n",
       "    </tr>\n",
       "    <tr>\n",
       "      <th>2218</th>\n",
       "      <td>2021-03-27</td>\n",
       "      <td>1616803200</td>\n",
       "      <td>56645.325460</td>\n",
       "      <td>53967.742633</td>\n",
       "      <td>55008.350978</td>\n",
       "      <td>55855.274815</td>\n",
       "      <td>2.880248e+07</td>\n",
       "    </tr>\n",
       "    <tr>\n",
       "      <th>2219</th>\n",
       "      <td>2021-03-28</td>\n",
       "      <td>1616889600</td>\n",
       "      <td>56517.750699</td>\n",
       "      <td>54700.000000</td>\n",
       "      <td>55828.000000</td>\n",
       "      <td>55773.962120</td>\n",
       "      <td>2.379101e+07</td>\n",
       "    </tr>\n",
       "    <tr>\n",
       "      <th>2220</th>\n",
       "      <td>2021-03-29</td>\n",
       "      <td>1616976000</td>\n",
       "      <td>58332.142365</td>\n",
       "      <td>54940.245881</td>\n",
       "      <td>55769.134151</td>\n",
       "      <td>57620.809447</td>\n",
       "      <td>4.498012e+07</td>\n",
       "    </tr>\n",
       "    <tr>\n",
       "      <th>2221</th>\n",
       "      <td>2021-03-30</td>\n",
       "      <td>1617062400</td>\n",
       "      <td>59360.000000</td>\n",
       "      <td>57085.000000</td>\n",
       "      <td>57614.000000</td>\n",
       "      <td>58748.000000</td>\n",
       "      <td>2.964910e+07</td>\n",
       "    </tr>\n",
       "    <tr>\n",
       "      <th>2222</th>\n",
       "      <td>2021-03-31</td>\n",
       "      <td>1617148800</td>\n",
       "      <td>59782.490733</td>\n",
       "      <td>56846.531521</td>\n",
       "      <td>58748.000000</td>\n",
       "      <td>58743.337525</td>\n",
       "      <td>6.003219e+07</td>\n",
       "    </tr>\n",
       "  </tbody>\n",
       "</table>\n",
       "<p>2223 rows × 7 columns</p>\n",
       "</div>"
      ],
      "text/plain": [
       "           date       epoch          high           low          open  \\\n",
       "0    2015-03-01  1425168000    251.000000    240.000060    240.000060   \n",
       "1    2015-03-02  1425254400    269.000000    251.000000    251.000000   \n",
       "2    2015-03-03  1425340800    274.500000    255.000000    269.000000   \n",
       "3    2015-03-04  1425427200    280.000000    258.875000    267.220000   \n",
       "4    2015-03-05  1425513600    280.890000    257.000000    280.000000   \n",
       "...         ...         ...           ...           ...           ...   \n",
       "2218 2021-03-27  1616803200  56645.325460  53967.742633  55008.350978   \n",
       "2219 2021-03-28  1616889600  56517.750699  54700.000000  55828.000000   \n",
       "2220 2021-03-29  1616976000  58332.142365  54940.245881  55769.134151   \n",
       "2221 2021-03-30  1617062400  59360.000000  57085.000000  57614.000000   \n",
       "2222 2021-03-31  1617148800  59782.490733  56846.531521  58748.000000   \n",
       "\n",
       "             close        volume  \n",
       "0       251.000000  3.177152e-01  \n",
       "1       269.000000  9.806380e+01  \n",
       "2       267.220000  4.429831e+02  \n",
       "3       280.000000  2.458890e+02  \n",
       "4       257.000120  1.174407e+02  \n",
       "...            ...           ...  \n",
       "2218  55855.274815  2.880248e+07  \n",
       "2219  55773.962120  2.379101e+07  \n",
       "2220  57620.809447  4.498012e+07  \n",
       "2221  58748.000000  2.964910e+07  \n",
       "2222  58743.337525  6.003219e+07  \n",
       "\n",
       "[2223 rows x 7 columns]"
      ]
     },
     "execution_count": 12,
     "metadata": {},
     "output_type": "execute_result"
    }
   ],
   "source": [
    "daily_df"
   ]
  },
  {
   "cell_type": "code",
   "execution_count": 13,
   "id": "reflected-assignment",
   "metadata": {},
   "outputs": [],
   "source": [
    "%matplotlib inline\n",
    "plt.style.use(\"seaborn\")"
   ]
  },
  {
   "cell_type": "code",
   "execution_count": 14,
   "id": "opened-desktop",
   "metadata": {},
   "outputs": [
    {
     "data": {
      "text/plain": [
       "[<matplotlib.lines.Line2D at 0x7f87a07063d0>]"
      ]
     },
     "execution_count": 14,
     "metadata": {},
     "output_type": "execute_result"
    },
    {
     "data": {
      "image/png": "[encoded data removed]",
      "text/plain": [
       "<Figure size 576x396 with 1 Axes>"
      ]
     },
     "metadata": {},
     "output_type": "display_data"
    }
   ],
   "source": [
    "#daily_df.loc[2000:,'high'].plot()\n",
    "\n",
    "plt.plot(daily_df.loc[2000:,'high'])"
   ]
  },
  {
   "cell_type": "code",
   "execution_count": 15,
   "id": "boring-ultimate",
   "metadata": {},
   "outputs": [
    {
     "data": {
      "text/plain": [
       "12        301.000000\n",
       "22        274.298098\n",
       "60        255.000000\n",
       "79        260.000000\n",
       "98        243.000000\n",
       "            ...     \n",
       "2140    41888.000000\n",
       "2161    38380.000000\n",
       "2184    58320.000000\n",
       "2194    52605.813647\n",
       "2204    61799.000000\n",
       "Name: high, Length: 158, dtype: float64"
      ]
     },
     "execution_count": 15,
     "metadata": {},
     "output_type": "execute_result"
    }
   ],
   "source": [
    "x = daily_df.loc[resistances,'high']\n",
    "type(x)\n",
    "x\n"
   ]
  },
  {
   "cell_type": "code",
   "execution_count": 16,
   "id": "dietary-genome",
   "metadata": {},
   "outputs": [
    {
     "data": {
      "text/plain": [
       "12      0\n",
       "22      0\n",
       "60      0\n",
       "79      0\n",
       "98      0\n",
       "       ..\n",
       "2140    0\n",
       "2161    0\n",
       "2184    0\n",
       "2194    0\n",
       "2204    0\n",
       "Name: resistance, Length: 158, dtype: int64"
      ]
     },
     "execution_count": 16,
     "metadata": {},
     "output_type": "execute_result"
    }
   ],
   "source": [
    "daily_df['resistance'] = 0\n",
    "x = daily_df.loc[resistances,'resistance']\n",
    "x"
   ]
  },
  {
   "cell_type": "code",
   "execution_count": 17,
   "id": "wrong-regard",
   "metadata": {},
   "outputs": [
    {
     "name": "stdout",
     "output_type": "stream",
     "text": [
      "Int64Index([  12,   22,   60,   79,   98,  110,  121,  127,  133,  150,\n",
      "            ...\n",
      "            2052, 2077, 2096, 2102, 2121, 2140, 2161, 2184, 2194, 2204],\n",
      "           dtype='int64', length=158)\n"
     ]
    }
   ],
   "source": [
    "print(x.index)"
   ]
  },
  {
   "cell_type": "code",
   "execution_count": null,
   "id": "looking-lemon",
   "metadata": {},
   "outputs": [],
   "source": []
  },
  {
   "cell_type": "code",
   "execution_count": 18,
   "id": "played-combining",
   "metadata": {},
   "outputs": [
    {
     "data": {
      "text/plain": [
       "array([  12,   22,   60,   79,   98,  110,  121,  127,  133,  150,  174,\n",
       "        194,  212,  220,  230,  248,  262,  274,  290,  298,  307,  313,\n",
       "        325,  341,  348,  357,  366,  376,  382,  392,  425,  435,  441,\n",
       "        455,  461,  475,  489,  499,  504,  527,  541,  560,  613,  619,\n",
       "        629,  642,  676,  693,  711,  726,  733,  740,  745,  772,  802,\n",
       "        816,  833,  842,  856,  872,  900,  916,  932,  946,  959,  965,\n",
       "        983, 1022, 1032, 1042, 1064, 1087, 1100, 1116, 1129, 1141, 1151,\n",
       "       1161, 1176, 1190, 1206, 1219, 1226, 1242, 1263, 1270, 1283, 1293,\n",
       "       1301, 1307, 1317, 1324, 1347, 1369, 1394, 1409, 1420, 1427, 1434,\n",
       "       1440, 1456, 1469, 1476, 1481, 1494, 1501, 1514, 1535, 1551, 1578,\n",
       "       1592, 1602, 1619, 1633, 1639, 1650, 1675, 1685, 1700, 1709, 1734,\n",
       "       1744, 1758, 1764, 1774, 1785, 1796, 1810, 1833, 1846, 1851, 1864,\n",
       "       1875, 1887, 1894, 1905, 1919, 1928, 1934, 1940, 1949, 1956, 1981,\n",
       "       1989, 1996, 2011, 2029, 2038, 2052, 2077, 2096, 2102, 2121, 2140,\n",
       "       2161, 2184, 2194, 2204])"
      ]
     },
     "execution_count": 18,
     "metadata": {},
     "output_type": "execute_result"
    }
   ],
   "source": [
    "type(resistances)\n",
    "resistances"
   ]
  },
  {
   "cell_type": "code",
   "execution_count": 19,
   "id": "explicit-german",
   "metadata": {},
   "outputs": [],
   "source": [
    "daily_df.loc[resistances,'resistance'] = 1"
   ]
  },
  {
   "cell_type": "code",
   "execution_count": 20,
   "id": "threatened-fishing",
   "metadata": {},
   "outputs": [
    {
     "data": {
      "text/html": [
       "<div>\n",
       "<style scoped>\n",
       "    .dataframe tbody tr th:only-of-type {\n",
       "        vertical-align: middle;\n",
       "    }\n",
       "\n",
       "    .dataframe tbody tr th {\n",
       "        vertical-align: top;\n",
       "    }\n",
       "\n",
       "    .dataframe thead th {\n",
       "        text-align: right;\n",
       "    }\n",
       "</style>\n",
       "<table border=\"1\" class=\"dataframe\">\n",
       "  <thead>\n",
       "    <tr style=\"text-align: right;\">\n",
       "      <th></th>\n",
       "      <th>date</th>\n",
       "      <th>epoch</th>\n",
       "      <th>high</th>\n",
       "      <th>low</th>\n",
       "      <th>open</th>\n",
       "      <th>close</th>\n",
       "      <th>volume</th>\n",
       "      <th>resistance</th>\n",
       "    </tr>\n",
       "  </thead>\n",
       "  <tbody>\n",
       "    <tr>\n",
       "      <th>0</th>\n",
       "      <td>2015-03-01</td>\n",
       "      <td>1425168000</td>\n",
       "      <td>251.000000</td>\n",
       "      <td>240.000060</td>\n",
       "      <td>240.000060</td>\n",
       "      <td>251.000000</td>\n",
       "      <td>3.177152e-01</td>\n",
       "      <td>0</td>\n",
       "    </tr>\n",
       "    <tr>\n",
       "      <th>1</th>\n",
       "      <td>2015-03-02</td>\n",
       "      <td>1425254400</td>\n",
       "      <td>269.000000</td>\n",
       "      <td>251.000000</td>\n",
       "      <td>251.000000</td>\n",
       "      <td>269.000000</td>\n",
       "      <td>9.806380e+01</td>\n",
       "      <td>0</td>\n",
       "    </tr>\n",
       "    <tr>\n",
       "      <th>2</th>\n",
       "      <td>2015-03-03</td>\n",
       "      <td>1425340800</td>\n",
       "      <td>274.500000</td>\n",
       "      <td>255.000000</td>\n",
       "      <td>269.000000</td>\n",
       "      <td>267.220000</td>\n",
       "      <td>4.429831e+02</td>\n",
       "      <td>0</td>\n",
       "    </tr>\n",
       "    <tr>\n",
       "      <th>3</th>\n",
       "      <td>2015-03-04</td>\n",
       "      <td>1425427200</td>\n",
       "      <td>280.000000</td>\n",
       "      <td>258.875000</td>\n",
       "      <td>267.220000</td>\n",
       "      <td>280.000000</td>\n",
       "      <td>2.458890e+02</td>\n",
       "      <td>0</td>\n",
       "    </tr>\n",
       "    <tr>\n",
       "      <th>4</th>\n",
       "      <td>2015-03-05</td>\n",
       "      <td>1425513600</td>\n",
       "      <td>280.890000</td>\n",
       "      <td>257.000000</td>\n",
       "      <td>280.000000</td>\n",
       "      <td>257.000120</td>\n",
       "      <td>1.174407e+02</td>\n",
       "      <td>0</td>\n",
       "    </tr>\n",
       "    <tr>\n",
       "      <th>...</th>\n",
       "      <td>...</td>\n",
       "      <td>...</td>\n",
       "      <td>...</td>\n",
       "      <td>...</td>\n",
       "      <td>...</td>\n",
       "      <td>...</td>\n",
       "      <td>...</td>\n",
       "      <td>...</td>\n",
       "    </tr>\n",
       "    <tr>\n",
       "      <th>2218</th>\n",
       "      <td>2021-03-27</td>\n",
       "      <td>1616803200</td>\n",
       "      <td>56645.325460</td>\n",
       "      <td>53967.742633</td>\n",
       "      <td>55008.350978</td>\n",
       "      <td>55855.274815</td>\n",
       "      <td>2.880248e+07</td>\n",
       "      <td>0</td>\n",
       "    </tr>\n",
       "    <tr>\n",
       "      <th>2219</th>\n",
       "      <td>2021-03-28</td>\n",
       "      <td>1616889600</td>\n",
       "      <td>56517.750699</td>\n",
       "      <td>54700.000000</td>\n",
       "      <td>55828.000000</td>\n",
       "      <td>55773.962120</td>\n",
       "      <td>2.379101e+07</td>\n",
       "      <td>0</td>\n",
       "    </tr>\n",
       "    <tr>\n",
       "      <th>2220</th>\n",
       "      <td>2021-03-29</td>\n",
       "      <td>1616976000</td>\n",
       "      <td>58332.142365</td>\n",
       "      <td>54940.245881</td>\n",
       "      <td>55769.134151</td>\n",
       "      <td>57620.809447</td>\n",
       "      <td>4.498012e+07</td>\n",
       "      <td>0</td>\n",
       "    </tr>\n",
       "    <tr>\n",
       "      <th>2221</th>\n",
       "      <td>2021-03-30</td>\n",
       "      <td>1617062400</td>\n",
       "      <td>59360.000000</td>\n",
       "      <td>57085.000000</td>\n",
       "      <td>57614.000000</td>\n",
       "      <td>58748.000000</td>\n",
       "      <td>2.964910e+07</td>\n",
       "      <td>0</td>\n",
       "    </tr>\n",
       "    <tr>\n",
       "      <th>2222</th>\n",
       "      <td>2021-03-31</td>\n",
       "      <td>1617148800</td>\n",
       "      <td>59782.490733</td>\n",
       "      <td>56846.531521</td>\n",
       "      <td>58748.000000</td>\n",
       "      <td>58743.337525</td>\n",
       "      <td>6.003219e+07</td>\n",
       "      <td>0</td>\n",
       "    </tr>\n",
       "  </tbody>\n",
       "</table>\n",
       "<p>2223 rows × 8 columns</p>\n",
       "</div>"
      ],
      "text/plain": [
       "           date       epoch          high           low          open  \\\n",
       "0    2015-03-01  1425168000    251.000000    240.000060    240.000060   \n",
       "1    2015-03-02  1425254400    269.000000    251.000000    251.000000   \n",
       "2    2015-03-03  1425340800    274.500000    255.000000    269.000000   \n",
       "3    2015-03-04  1425427200    280.000000    258.875000    267.220000   \n",
       "4    2015-03-05  1425513600    280.890000    257.000000    280.000000   \n",
       "...         ...         ...           ...           ...           ...   \n",
       "2218 2021-03-27  1616803200  56645.325460  53967.742633  55008.350978   \n",
       "2219 2021-03-28  1616889600  56517.750699  54700.000000  55828.000000   \n",
       "2220 2021-03-29  1616976000  58332.142365  54940.245881  55769.134151   \n",
       "2221 2021-03-30  1617062400  59360.000000  57085.000000  57614.000000   \n",
       "2222 2021-03-31  1617148800  59782.490733  56846.531521  58748.000000   \n",
       "\n",
       "             close        volume  resistance  \n",
       "0       251.000000  3.177152e-01           0  \n",
       "1       269.000000  9.806380e+01           0  \n",
       "2       267.220000  4.429831e+02           0  \n",
       "3       280.000000  2.458890e+02           0  \n",
       "4       257.000120  1.174407e+02           0  \n",
       "...            ...           ...         ...  \n",
       "2218  55855.274815  2.880248e+07           0  \n",
       "2219  55773.962120  2.379101e+07           0  \n",
       "2220  57620.809447  4.498012e+07           0  \n",
       "2221  58748.000000  2.964910e+07           0  \n",
       "2222  58743.337525  6.003219e+07           0  \n",
       "\n",
       "[2223 rows x 8 columns]"
      ]
     },
     "execution_count": 20,
     "metadata": {},
     "output_type": "execute_result"
    }
   ],
   "source": [
    "daily_df"
   ]
  },
  {
   "cell_type": "code",
   "execution_count": 21,
   "id": "scheduled-circus",
   "metadata": {},
   "outputs": [],
   "source": [
    "y = pd.Series(np.zeros(daily_df.high.size))"
   ]
  },
  {
   "cell_type": "code",
   "execution_count": 22,
   "id": "demographic-gates",
   "metadata": {},
   "outputs": [],
   "source": [
    "y.mask(daily_df.resistance == 1,daily_df.high,inplace=True)\n",
    "\n",
    "daily_df['y'] = y"
   ]
  },
  {
   "cell_type": "code",
   "execution_count": 23,
   "id": "consolidated-reduction",
   "metadata": {
    "scrolled": true
   },
   "outputs": [
    {
     "data": {
      "text/plain": [
       "[<matplotlib.lines.Line2D at 0x7f879d9ef190>]"
      ]
     },
     "execution_count": 23,
     "metadata": {},
     "output_type": "execute_result"
    },
    {
     "data": {
      "image/png": "[encoded data removed]",
      "text/plain": [
       "<Figure size 576x396 with 1 Axes>"
      ]
     },
     "metadata": {},
     "output_type": "display_data"
    }
   ],
   "source": [
    "plt.plot(daily_df.loc[2000:,'high'])\n",
    "plt.plot(daily_df.loc[2000:,'y'])"
   ]
  },
  {
   "cell_type": "code",
   "execution_count": 24,
   "id": "wrapped-headquarters",
   "metadata": {},
   "outputs": [
    {
     "data": {
      "text/plain": [
       "[<matplotlib.lines.Line2D at 0x7f87a1176dc0>]"
      ]
     },
     "execution_count": 24,
     "metadata": {},
     "output_type": "execute_result"
    },
    {
     "data": {
      "image/png": "[encoded data removed]",
      "text/plain": [
       "<Figure size 576x396 with 1 Axes>"
      ]
     },
     "metadata": {},
     "output_type": "display_data"
    }
   ],
   "source": [
    "plt.plot(daily_df.loc[1000:1050,'high'])\n",
    "plt.plot(daily_df.loc[1000:1050,'y'])"
   ]
  }
 ],
 "metadata": {
  "kernelspec": {
   "display_name": "Python 3",
   "language": "python",
   "name": "python3"
  },
  "language_info": {
   "codemirror_mode": {
    "name": "ipython",
    "version": 3
   },
   "file_extension": ".py",
   "mimetype": "text/x-python",
   "name": "python",
   "nbconvert_exporter": "python",
   "pygments_lexer": "ipython3",
   "version": "3.8.5"
  }
 },
 "nbformat": 4,
 "nbformat_minor": 5
}
