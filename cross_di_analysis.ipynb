{
 "cells": [
  {
   "cell_type": "markdown",
   "id": "raising-position",
   "metadata": {},
   "source": [
    "# Cross Directional Movement Indicator"
   ]
  },
  {
   "cell_type": "code",
   "execution_count": 2,
   "id": "binary-fourth",
   "metadata": {},
   "outputs": [],
   "source": [
    "%load_ext memory_profiler"
   ]
  },
  {
   "cell_type": "code",
   "execution_count": 3,
   "id": "completed-improvement",
   "metadata": {},
   "outputs": [
    {
     "name": "stdout",
     "output_type": "stream",
     "text": [
      "peak memory: 98.70 MiB, increment: 0.96 MiB\n",
      "12.9 µs ± 9.06 ns per loop (mean ± std. dev. of 7 runs, 100000 loops each)\n"
     ]
    }
   ],
   "source": [
    "import pandas as pd \n",
    "import numpy as np\n",
    "import time\n",
    "%mem np.zeros(100000)\n",
    "%time np.zeros(100000)"
   ]
  },
  {
   "cell_type": "code",
   "execution_count": 24,
   "id": "fifth-bouquet",
   "metadata": {},
   "outputs": [
    {
     "name": "stdout",
     "output_type": "stream",
     "text": [
      "Dataframe shape:(2192, 11)\n"
     ]
    },
    {
     "data": {
      "text/html": [
       "<div>\n",
       "<style scoped>\n",
       "    .dataframe tbody tr th:only-of-type {\n",
       "        vertical-align: middle;\n",
       "    }\n",
       "\n",
       "    .dataframe tbody tr th {\n",
       "        vertical-align: top;\n",
       "    }\n",
       "\n",
       "    .dataframe thead th {\n",
       "        text-align: right;\n",
       "    }\n",
       "</style>\n",
       "<table border=\"1\" class=\"dataframe\">\n",
       "  <thead>\n",
       "    <tr style=\"text-align: right;\">\n",
       "      <th></th>\n",
       "      <th>date</th>\n",
       "      <th>high</th>\n",
       "      <th>low</th>\n",
       "      <th>open</th>\n",
       "      <th>close</th>\n",
       "    </tr>\n",
       "  </thead>\n",
       "  <tbody>\n",
       "    <tr>\n",
       "      <th>0</th>\n",
       "      <td>1425168000</td>\n",
       "      <td>251.00</td>\n",
       "      <td>240.000121</td>\n",
       "      <td>240.000121</td>\n",
       "      <td>251.00000</td>\n",
       "    </tr>\n",
       "    <tr>\n",
       "      <th>1</th>\n",
       "      <td>1425254400</td>\n",
       "      <td>269.00</td>\n",
       "      <td>251.000000</td>\n",
       "      <td>252.000000</td>\n",
       "      <td>269.00000</td>\n",
       "    </tr>\n",
       "    <tr>\n",
       "      <th>2</th>\n",
       "      <td>1425340800</td>\n",
       "      <td>274.50</td>\n",
       "      <td>255.000000</td>\n",
       "      <td>268.000000</td>\n",
       "      <td>267.22000</td>\n",
       "    </tr>\n",
       "    <tr>\n",
       "      <th>3</th>\n",
       "      <td>1425427200</td>\n",
       "      <td>280.00</td>\n",
       "      <td>258.875000</td>\n",
       "      <td>258.875000</td>\n",
       "      <td>280.00000</td>\n",
       "    </tr>\n",
       "    <tr>\n",
       "      <th>4</th>\n",
       "      <td>1425513600</td>\n",
       "      <td>280.89</td>\n",
       "      <td>257.000000</td>\n",
       "      <td>257.000000</td>\n",
       "      <td>257.00012</td>\n",
       "    </tr>\n",
       "  </tbody>\n",
       "</table>\n",
       "</div>"
      ],
      "text/plain": [
       "         date    high         low        open      close\n",
       "0  1425168000  251.00  240.000121  240.000121  251.00000\n",
       "1  1425254400  269.00  251.000000  252.000000  269.00000\n",
       "2  1425340800  274.50  255.000000  268.000000  267.22000\n",
       "3  1425427200  280.00  258.875000  258.875000  280.00000\n",
       "4  1425513600  280.89  257.000000  257.000000  257.00012"
      ]
     },
     "execution_count": 24,
     "metadata": {},
     "output_type": "execute_result"
    }
   ],
   "source": [
    "df = pd.read_csv(\"data/input/USDT_BTC_86400_1425168000_72.csv\")\n",
    "print(f\"Dataframe shape:{df.shape}\")\n",
    "df = df.drop(columns=['ts','period','currency_pair','volume','quoteVolume','quoteVolume','weightedAverage'])\n",
    "df.head()"
   ]
  },
  {
   "cell_type": "code",
   "execution_count": 6,
   "id": "wooden-particular",
   "metadata": {},
   "outputs": [],
   "source": [
    "def true_range(df):\n",
    "    ranges = [df.high - df.low,(df.high - df.close.shift(1)).abs(),(df.low - df.close.shift(1)).abs()]\n",
    "    return pd.Series(np.maximum.reduce(ranges))"
   ]
  },
  {
   "cell_type": "code",
   "execution_count": 7,
   "id": "identified-broad",
   "metadata": {},
   "outputs": [],
   "source": [
    "def directional_movement(df):\n",
    "    delta_high = df.high - df.high.shift(1)\n",
    "    delta_low = df.low.shift(1) - df.low\n",
    "    delta_high = np.where(delta_high < 0, 0, delta_high)\n",
    "    delta_low = np.where(delta_low < 0, 0, delta_low)\n",
    "    up_dm = np.where(delta_high > delta_low, delta_high, 0)\n",
    "    down_dm = np.where(delta_low > delta_high, delta_low, 0)\n",
    "    return pd.Series(up_dm), pd.Series(down_dm)"
   ]
  },
  {
   "cell_type": "code",
   "execution_count": 8,
   "id": "balanced-austin",
   "metadata": {},
   "outputs": [],
   "source": [
    "def average_true_range(tr,n):\n",
    "    ATR = tr.ewm(com=n-1,adjust=False).mean()\n",
    "    return ATR"
   ]
  },
  {
   "cell_type": "code",
   "execution_count": 9,
   "id": "combined-scene",
   "metadata": {},
   "outputs": [],
   "source": [
    "def average_directional_movement_index_v1(df,n):\n",
    "    \n",
    "    df['up_dm'], df['down_dm'] = directional_movement(df)\n",
    "    df['tr'] = true_range(df)   \n",
    "    \n",
    "    df['up_DMn'] = df.up_dm.ewm(com=n-1,adjust=False).mean()\n",
    "    df['down_DMn'] = df.down_dm.ewm(com=n-1,adjust=False).mean()\n",
    "    df['TRn'] = df.tr.ewm(com=n-1,adjust=False).mean()\n",
    "    df['up_DI'] = df.up_DMn/df.TRn\n",
    "    df['down_DI'] = df.down_DMn/df.TRn\n",
    "\n",
    "    df['DX'] = abs(df.up_DI- df.down_DI)/(df.up_DI + df.down_DI)\n",
    "    \n",
    "    df['ADX'] = df.DX.ewm(com=n-1,adjust=False).mean()\n",
    "    df['ADXR'] = (df.ADX + df.ADX.shift(n-1)) / 2\n",
    "    \n",
    "    \n",
    "   "
   ]
  },
  {
   "cell_type": "code",
   "execution_count": 27,
   "id": "conventional-contact",
   "metadata": {},
   "outputs": [],
   "source": [
    "def cross_directional_movement_indicator(df):\n",
    "    df['d0'] = df.up_DI - df.down_DI\n",
    "    df['d1'] = df.up_DI.shift(1) - df.down_DI.shift(1)\n",
    "    df['d2'] = df.up_DI.shift(2) - df.down_DI.shift(2)\n",
    "    df['d3'] = df.up_DI.shift(3) - df.down_DI.shift(3)\n",
    "    df['d4'] = df.up_DI.shift(4) - df.down_DI.shift(4)\n",
    "    df['cross_up_down'] = np.where((df.d0 > 0 ) & ( df.d1 < 0) & ( df.d2 < df.d1) & ( df.d3 < df.d2) & ( df.d4 < df.d3),1,0)\n",
    "    df['cross_down_up'] = np.where((df.d0 < 0 ) & ( df.d1 > 0) & ( df.d2 > df.d1) & ( df.d3 > df.d2) & ( df.d4 > df.d3),1,0)\n",
    "    "
   ]
  },
  {
   "cell_type": "code",
   "execution_count": 37,
   "id": "assumed-desktop",
   "metadata": {},
   "outputs": [
    {
     "name": "stdout",
     "output_type": "stream",
     "text": [
      "CPU times: user 3.98 ms, sys: 0 ns, total: 3.98 ms\n",
      "Wall time: 3.84 ms\n",
      "ADX max 0.5991445049143201\n",
      "ADX min 0.08809580975504952\n"
     ]
    }
   ],
   "source": [
    "average_directional_movement_index_v1(df,14)\n",
    "%time cross_directional_movement_indicator(df)\n",
    "df = df[100:].copy()\n",
    "df.tail()\n",
    "print(f\"ADX max {df.ADX.max()}\")\n",
    "print(f\"ADX min {df.ADX.min()}\")\n",
    "#df.to_csv(\"output.csv\")"
   ]
  }
 ],
 "metadata": {
  "kernelspec": {
   "display_name": "Python 3",
   "language": "python",
   "name": "python3"
  },
  "language_info": {
   "codemirror_mode": {
    "name": "ipython",
    "version": 3
   },
   "file_extension": ".py",
   "mimetype": "text/x-python",
   "name": "python",
   "nbconvert_exporter": "python",
   "pygments_lexer": "ipython3",
   "version": "3.8.5"
  }
 },
 "nbformat": 4,
 "nbformat_minor": 5
}
