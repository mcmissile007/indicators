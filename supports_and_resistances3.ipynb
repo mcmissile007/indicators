{
 "cells": [
  {
   "cell_type": "code",
   "execution_count": 1,
   "id": "visible-force",
   "metadata": {},
   "outputs": [],
   "source": [
    "#ttps://eddwardo.github.io/posts/2019-06-05-finding-local-extreams-in-pandas-time-series/\n",
    "import numpy as np\n",
    "from scipy.signal import argrelextrema\n",
    "from matplotlib import pyplot as plt\n",
    "import pandas as pd\n",
    "#%matplotlib inline\n",
    "%matplotlib widget\n"
   ]
  },
  {
   "cell_type": "code",
   "execution_count": 2,
   "id": "seasonal-vegetable",
   "metadata": {},
   "outputs": [
    {
     "data": {
      "text/html": [
       "<div>\n",
       "<style scoped>\n",
       "    .dataframe tbody tr th:only-of-type {\n",
       "        vertical-align: middle;\n",
       "    }\n",
       "\n",
       "    .dataframe tbody tr th {\n",
       "        vertical-align: top;\n",
       "    }\n",
       "\n",
       "    .dataframe thead th {\n",
       "        text-align: right;\n",
       "    }\n",
       "</style>\n",
       "<table border=\"1\" class=\"dataframe\">\n",
       "  <thead>\n",
       "    <tr style=\"text-align: right;\">\n",
       "      <th></th>\n",
       "      <th>epoch</th>\n",
       "      <th>high</th>\n",
       "      <th>low</th>\n",
       "      <th>open</th>\n",
       "      <th>close</th>\n",
       "      <th>volume</th>\n",
       "    </tr>\n",
       "    <tr>\n",
       "      <th>date</th>\n",
       "      <th></th>\n",
       "      <th></th>\n",
       "      <th></th>\n",
       "      <th></th>\n",
       "      <th></th>\n",
       "      <th></th>\n",
       "    </tr>\n",
       "  </thead>\n",
       "  <tbody>\n",
       "    <tr>\n",
       "      <th>2015-03-01 00:00:00</th>\n",
       "      <td>1425168000</td>\n",
       "      <td>240.000060</td>\n",
       "      <td>240.000060</td>\n",
       "      <td>240.000060</td>\n",
       "      <td>240.000060</td>\n",
       "      <td>0.000000</td>\n",
       "    </tr>\n",
       "    <tr>\n",
       "      <th>2015-03-01 00:05:00</th>\n",
       "      <td>1425168300</td>\n",
       "      <td>240.000060</td>\n",
       "      <td>240.000060</td>\n",
       "      <td>240.000060</td>\n",
       "      <td>240.000060</td>\n",
       "      <td>0.000000</td>\n",
       "    </tr>\n",
       "    <tr>\n",
       "      <th>2015-03-01 00:10:00</th>\n",
       "      <td>1425168600</td>\n",
       "      <td>240.000060</td>\n",
       "      <td>240.000060</td>\n",
       "      <td>240.000060</td>\n",
       "      <td>240.000060</td>\n",
       "      <td>0.000000</td>\n",
       "    </tr>\n",
       "    <tr>\n",
       "      <th>2015-03-01 00:15:00</th>\n",
       "      <td>1425168900</td>\n",
       "      <td>240.000060</td>\n",
       "      <td>240.000060</td>\n",
       "      <td>240.000060</td>\n",
       "      <td>240.000060</td>\n",
       "      <td>0.000000</td>\n",
       "    </tr>\n",
       "    <tr>\n",
       "      <th>2015-03-01 00:20:00</th>\n",
       "      <td>1425169200</td>\n",
       "      <td>240.000060</td>\n",
       "      <td>240.000060</td>\n",
       "      <td>240.000060</td>\n",
       "      <td>240.000060</td>\n",
       "      <td>0.000000</td>\n",
       "    </tr>\n",
       "    <tr>\n",
       "      <th>...</th>\n",
       "      <td>...</td>\n",
       "      <td>...</td>\n",
       "      <td>...</td>\n",
       "      <td>...</td>\n",
       "      <td>...</td>\n",
       "      <td>...</td>\n",
       "    </tr>\n",
       "    <tr>\n",
       "      <th>2021-03-31 23:35:00</th>\n",
       "      <td>1617233700</td>\n",
       "      <td>58802.587059</td>\n",
       "      <td>58761.857003</td>\n",
       "      <td>58801.000000</td>\n",
       "      <td>58762.000000</td>\n",
       "      <td>29415.195318</td>\n",
       "    </tr>\n",
       "    <tr>\n",
       "      <th>2021-03-31 23:40:00</th>\n",
       "      <td>1617234000</td>\n",
       "      <td>58798.268464</td>\n",
       "      <td>58744.683295</td>\n",
       "      <td>58762.000000</td>\n",
       "      <td>58795.050899</td>\n",
       "      <td>169054.589184</td>\n",
       "    </tr>\n",
       "    <tr>\n",
       "      <th>2021-03-31 23:45:00</th>\n",
       "      <td>1617234300</td>\n",
       "      <td>58866.551166</td>\n",
       "      <td>58795.050899</td>\n",
       "      <td>58795.050899</td>\n",
       "      <td>58810.585631</td>\n",
       "      <td>4315.762275</td>\n",
       "    </tr>\n",
       "    <tr>\n",
       "      <th>2021-03-31 23:50:00</th>\n",
       "      <td>1617234600</td>\n",
       "      <td>58786.410021</td>\n",
       "      <td>58709.119709</td>\n",
       "      <td>58786.410021</td>\n",
       "      <td>58718.472331</td>\n",
       "      <td>40985.687257</td>\n",
       "    </tr>\n",
       "    <tr>\n",
       "      <th>2021-03-31 23:55:00</th>\n",
       "      <td>1617234900</td>\n",
       "      <td>58782.756274</td>\n",
       "      <td>58658.655257</td>\n",
       "      <td>58723.298934</td>\n",
       "      <td>58743.337525</td>\n",
       "      <td>51866.295034</td>\n",
       "    </tr>\n",
       "  </tbody>\n",
       "</table>\n",
       "<p>639975 rows × 6 columns</p>\n",
       "</div>"
      ],
      "text/plain": [
       "                          epoch          high           low          open  \\\n",
       "date                                                                        \n",
       "2015-03-01 00:00:00  1425168000    240.000060    240.000060    240.000060   \n",
       "2015-03-01 00:05:00  1425168300    240.000060    240.000060    240.000060   \n",
       "2015-03-01 00:10:00  1425168600    240.000060    240.000060    240.000060   \n",
       "2015-03-01 00:15:00  1425168900    240.000060    240.000060    240.000060   \n",
       "2015-03-01 00:20:00  1425169200    240.000060    240.000060    240.000060   \n",
       "...                         ...           ...           ...           ...   \n",
       "2021-03-31 23:35:00  1617233700  58802.587059  58761.857003  58801.000000   \n",
       "2021-03-31 23:40:00  1617234000  58798.268464  58744.683295  58762.000000   \n",
       "2021-03-31 23:45:00  1617234300  58866.551166  58795.050899  58795.050899   \n",
       "2021-03-31 23:50:00  1617234600  58786.410021  58709.119709  58786.410021   \n",
       "2021-03-31 23:55:00  1617234900  58782.756274  58658.655257  58723.298934   \n",
       "\n",
       "                            close         volume  \n",
       "date                                              \n",
       "2015-03-01 00:00:00    240.000060       0.000000  \n",
       "2015-03-01 00:05:00    240.000060       0.000000  \n",
       "2015-03-01 00:10:00    240.000060       0.000000  \n",
       "2015-03-01 00:15:00    240.000060       0.000000  \n",
       "2015-03-01 00:20:00    240.000060       0.000000  \n",
       "...                           ...            ...  \n",
       "2021-03-31 23:35:00  58762.000000   29415.195318  \n",
       "2021-03-31 23:40:00  58795.050899  169054.589184  \n",
       "2021-03-31 23:45:00  58810.585631    4315.762275  \n",
       "2021-03-31 23:50:00  58718.472331   40985.687257  \n",
       "2021-03-31 23:55:00  58743.337525   51866.295034  \n",
       "\n",
       "[639975 rows x 6 columns]"
      ]
     },
     "execution_count": 2,
     "metadata": {},
     "output_type": "execute_result"
    }
   ],
   "source": [
    "min_period = 300\n",
    "N = 14\n",
    "df = pd.read_csv(f\"data/USDT_BTC_{min_period}_1425168000_73.csv\")\n",
    "df.rename(columns={'date':'epoch','ts':'date'},inplace=True)\n",
    "assert df.loc[0,'period'] == min_period, \"Error, period different from min_period\"\n",
    "assert df['period'].count() == df.shape[0], \"Error, period not always is min_period\" \n",
    "df.drop(columns=['period','currency_pair','quoteVolume','weightedAverage'],inplace=True)\n",
    "df['date'] = pd.to_datetime(df['date'])\n",
    "df.sort_values(by=\"date\") #just in case\n",
    "df.set_index('date',inplace=True)\n",
    "df"
   ]
  },
  {
   "cell_type": "code",
   "execution_count": 3,
   "id": "elementary-borough",
   "metadata": {},
   "outputs": [],
   "source": [
    "daily_df = df.resample('D').agg({'epoch':'first','high':'max','low':'min','open':'first','close':'last','volume':'sum'})"
   ]
  },
  {
   "cell_type": "code",
   "execution_count": 4,
   "id": "incorporated-possibility",
   "metadata": {
    "scrolled": true
   },
   "outputs": [],
   "source": [
    "#daily_df = daily_df.loc[\"2020\"]"
   ]
  },
  {
   "cell_type": "code",
   "execution_count": 5,
   "id": "square-aggregate",
   "metadata": {},
   "outputs": [],
   "source": [
    "#+- 4 days -> weekly extrema\n",
    "i_supports = argrelextrema(daily_df.close.values, np.less_equal, order=4)[0] \n",
    "i_resistances = argrelextrema(daily_df.close.values, np.greater_equal, order=4)[0]"
   ]
  },
  {
   "cell_type": "code",
   "execution_count": 6,
   "id": "guided-witness",
   "metadata": {},
   "outputs": [
    {
     "name": "stdout",
     "output_type": "stream",
     "text": [
      "[   0   17   25   44   56   66   67   80   95  115  139  153  160  170\n",
      "  176  182  196  205  218  255  268  300  311  320  339  344  360  370\n",
      "  384  395  404  423  428  436  448  479  494  509  520  533  545  560\n",
      "  571  598  613  623  630  637  645  677  682  695  711  740  748  754\n",
      "  774  818  837  848  853  868  878  885  904  918  928  936  948  962\n",
      "  968  987  998 1027 1035 1047 1058 1072 1092 1112 1132 1167 1173 1184\n",
      " 1191 1200 1209 1215 1230 1258 1268 1287 1296 1304 1312 1320 1328 1339\n",
      " 1349 1366 1385 1397 1414 1422 1430 1439 1446 1456 1464 1473 1485 1502\n",
      " 1516 1539 1556 1561 1583 1598 1609 1627 1635 1642 1654 1670 1680 1692\n",
      " 1698 1705 1729 1739 1752 1761 1768 1791 1801 1817 1826 1838 1855 1872\n",
      " 1877 1898 1911 1929 1945 1951 1964 1981 1990 2004 2013 2018 2033 2043\n",
      " 2056 2098 2112 2122 2144 2153 2159 2191 2206 2216]\n",
      "[   3    9   14   21   32   33   39   54   60   68   79   84  102  109\n",
      "  133  150  155  181  190  201  211  247  258  274  289  299  307  312\n",
      "  325  340  357  365  376  382  393  401  422  435  441  463  473  489\n",
      "  504  525  540  557  580  590  595  612  619  628  642  675  692  709\n",
      "  733  745  751  772  802  815  828  833  844  850  857  872  899  915\n",
      "  921  932  945  958  965  983  995 1012 1021 1031 1042 1056 1064 1087\n",
      " 1099 1118 1129 1141 1150 1161 1176 1190 1207 1219 1224 1241 1246 1265\n",
      " 1283 1294 1300 1317 1325 1347 1353 1369 1390 1407 1415 1420 1434 1442\n",
      " 1455 1469 1480 1501 1514 1536 1548 1554 1578 1585 1591 1602 1621 1632\n",
      " 1647 1676 1683 1694 1701 1709 1734 1741 1757 1764 1784 1796 1811 1820\n",
      " 1832 1850 1865 1875 1894 1901 1906 1919 1928 1934 1940 1949 1956 1980\n",
      " 1989 1996 2011 2029 2039 2052 2076 2095 2101 2120 2140 2146 2184 2204\n",
      " 2221]\n"
     ]
    }
   ],
   "source": [
    "print(i_supports)\n",
    "print(i_resistances)"
   ]
  },
  {
   "cell_type": "code",
   "execution_count": 7,
   "id": "blond-jumping",
   "metadata": {},
   "outputs": [
    {
     "data": {
      "application/vnd.jupyter.widget-view+json": {
       "model_id": "2a44698426e949faa1d1cafee3d53450",
       "version_major": 2,
       "version_minor": 0
      },
      "text/plain": [
       "Canvas(toolbar=Toolbar(toolitems=[('Home', 'Reset original view', 'home', 'home'), ('Back', 'Back to previous …"
      ]
     },
     "metadata": {},
     "output_type": "display_data"
    },
    {
     "data": {
      "text/plain": [
       "[<matplotlib.lines.Line2D at 0x7f0a852dee50>]"
      ]
     },
     "execution_count": 7,
     "metadata": {},
     "output_type": "execute_result"
    }
   ],
   "source": [
    "plt.style.use(\"seaborn\")\n",
    "fig1,ax1 = plt.subplots()\n",
    "\n",
    "ax1.plot(daily_df.close,color=\"blue\")\n",
    "#daily_df.close.plot(color='blue')\n"
   ]
  },
  {
   "cell_type": "code",
   "execution_count": 8,
   "id": "colored-sector",
   "metadata": {},
   "outputs": [
    {
     "data": {
      "text/plain": [
       "[<matplotlib.lines.Line2D at 0x7f0a84397bb0>]"
      ]
     },
     "execution_count": 8,
     "metadata": {},
     "output_type": "execute_result"
    }
   ],
   "source": [
    "#no funciona porque no son indices al ser df los indices date no ints\n",
    "#df.loc[i_supports,'close'].plot(style='.', lw=10, color='red', marker=\"v\")\n",
    "#esto si funciona\n",
    "#daily_df.iloc[i_resistances].close.plot(style='.', lw=10, color='red', marker=\"v\")\n",
    "ax1.plot(daily_df.iloc[i_resistances].close,linestyle='None', color='red', marker=\"v\")"
   ]
  },
  {
   "cell_type": "code",
   "execution_count": 9,
   "id": "structural-payroll",
   "metadata": {},
   "outputs": [
    {
     "data": {
      "text/plain": [
       "[<matplotlib.lines.Line2D at 0x7f0a84397c70>]"
      ]
     },
     "execution_count": 9,
     "metadata": {},
     "output_type": "execute_result"
    }
   ],
   "source": [
    "#daily_df.iloc[i_supports].close.plot(style='.', lw=10, color='green', marker=\"^\")\n",
    "ax1.plot(daily_df.iloc[i_supports].close,linestyle='None',  color='green', marker=\"^\")"
   ]
  },
  {
   "cell_type": "code",
   "execution_count": null,
   "id": "dirty-coverage",
   "metadata": {},
   "outputs": [],
   "source": []
  },
  {
   "cell_type": "code",
   "execution_count": 10,
   "id": "furnished-printing",
   "metadata": {},
   "outputs": [
    {
     "name": "stdout",
     "output_type": "stream",
     "text": [
      "date\n",
      "2015-03-04      280.000000\n",
      "2015-03-10      291.000000\n",
      "2015-03-15      282.108000\n",
      "2015-03-22      267.516848\n",
      "2015-04-02      255.000000\n",
      "                  ...     \n",
      "2021-01-08    40600.000000\n",
      "2021-01-14    39158.756429\n",
      "2021-02-21    57415.481351\n",
      "2021-03-13    61179.998577\n",
      "2021-03-30    58748.000000\n",
      "Name: close, Length: 169, dtype: float64\n"
     ]
    }
   ],
   "source": [
    "#green points labeled as buy, red points labeled as sell? Think about iloc and use with numpy and pandas datetime series\n",
    "print(daily_df.iloc[i_resistances].close)"
   ]
  },
  {
   "cell_type": "code",
   "execution_count": 15,
   "id": "german-bullet",
   "metadata": {},
   "outputs": [
    {
     "name": "stdout",
     "output_type": "stream",
     "text": [
      "DatetimeIndex(['2015-03-04', '2015-03-10', '2015-03-15', '2015-03-22',\n",
      "               '2015-04-02', '2015-04-03', '2015-04-09', '2015-04-24',\n",
      "               '2015-04-30', '2015-05-08',\n",
      "               ...\n",
      "               '2020-10-12', '2020-11-05', '2020-11-24', '2020-11-30',\n",
      "               '2020-12-19', '2021-01-08', '2021-01-14', '2021-02-21',\n",
      "               '2021-03-13', '2021-03-30'],\n",
      "              dtype='datetime64[ns]', name='date', length=169, freq=None)\n"
     ]
    }
   ],
   "source": [
    "print(daily_df.iloc[i_resistances].index)"
   ]
  },
  {
   "cell_type": "code",
   "execution_count": 11,
   "id": "backed-evidence",
   "metadata": {},
   "outputs": [],
   "source": [
    "daily_df['label'] = 'stay'\n",
    "#To transform list of ilocs to the index, use: df.iloc[ilocs_min].index\n",
    "#daily_df.iloc[i_supports]['label'] = 'buy'\n",
    "#daily_df.iloc[i_resistances]['label'] = 'sell'\n",
    "daily_df.loc[daily_df.iloc[i_supports].index,'label'] = 'buy'\n",
    "daily_df.loc[daily_df.iloc[i_resistances].index,'label'] = 'sell'\n",
    "\n"
   ]
  },
  {
   "cell_type": "code",
   "execution_count": 12,
   "id": "three-bouquet",
   "metadata": {},
   "outputs": [],
   "source": [
    "daily_df.to_csv(\"labeled_data.csv\")"
   ]
  }
 ],
 "metadata": {
  "kernelspec": {
   "display_name": "Python 3",
   "language": "python",
   "name": "python3"
  },
  "language_info": {
   "codemirror_mode": {
    "name": "ipython",
    "version": 3
   },
   "file_extension": ".py",
   "mimetype": "text/x-python",
   "name": "python",
   "nbconvert_exporter": "python",
   "pygments_lexer": "ipython3",
   "version": "3.8.5"
  }
 },
 "nbformat": 4,
 "nbformat_minor": 5
}
