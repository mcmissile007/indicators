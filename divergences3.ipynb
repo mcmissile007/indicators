{
 "cells": [
  {
   "cell_type": "code",
   "execution_count": 1,
   "id": "visible-force",
   "metadata": {},
   "outputs": [],
   "source": [
    "#ttps://eddwardo.github.io/posts/2019-06-05-finding-local-extreams-in-pandas-time-series/\n",
    "import numpy as np\n",
    "from scipy.signal import argrelextrema\n",
    "from matplotlib import pyplot as plt\n",
    "import pandas as pd\n",
    "#%matplotlib inline\n",
    "%matplotlib widget\n"
   ]
  },
  {
   "cell_type": "code",
   "execution_count": 2,
   "id": "seasonal-vegetable",
   "metadata": {},
   "outputs": [
    {
     "data": {
      "text/html": [
       "<div>\n",
       "<style scoped>\n",
       "    .dataframe tbody tr th:only-of-type {\n",
       "        vertical-align: middle;\n",
       "    }\n",
       "\n",
       "    .dataframe tbody tr th {\n",
       "        vertical-align: top;\n",
       "    }\n",
       "\n",
       "    .dataframe thead th {\n",
       "        text-align: right;\n",
       "    }\n",
       "</style>\n",
       "<table border=\"1\" class=\"dataframe\">\n",
       "  <thead>\n",
       "    <tr style=\"text-align: right;\">\n",
       "      <th></th>\n",
       "      <th>epoch</th>\n",
       "      <th>high</th>\n",
       "      <th>low</th>\n",
       "      <th>open</th>\n",
       "      <th>close</th>\n",
       "      <th>volume</th>\n",
       "    </tr>\n",
       "    <tr>\n",
       "      <th>date</th>\n",
       "      <th></th>\n",
       "      <th></th>\n",
       "      <th></th>\n",
       "      <th></th>\n",
       "      <th></th>\n",
       "      <th></th>\n",
       "    </tr>\n",
       "  </thead>\n",
       "  <tbody>\n",
       "    <tr>\n",
       "      <th>2015-03-01 00:00:00</th>\n",
       "      <td>1425168000</td>\n",
       "      <td>240.000060</td>\n",
       "      <td>240.000060</td>\n",
       "      <td>240.000060</td>\n",
       "      <td>240.000060</td>\n",
       "      <td>0.000000</td>\n",
       "    </tr>\n",
       "    <tr>\n",
       "      <th>2015-03-01 00:05:00</th>\n",
       "      <td>1425168300</td>\n",
       "      <td>240.000060</td>\n",
       "      <td>240.000060</td>\n",
       "      <td>240.000060</td>\n",
       "      <td>240.000060</td>\n",
       "      <td>0.000000</td>\n",
       "    </tr>\n",
       "    <tr>\n",
       "      <th>2015-03-01 00:10:00</th>\n",
       "      <td>1425168600</td>\n",
       "      <td>240.000060</td>\n",
       "      <td>240.000060</td>\n",
       "      <td>240.000060</td>\n",
       "      <td>240.000060</td>\n",
       "      <td>0.000000</td>\n",
       "    </tr>\n",
       "    <tr>\n",
       "      <th>2015-03-01 00:15:00</th>\n",
       "      <td>1425168900</td>\n",
       "      <td>240.000060</td>\n",
       "      <td>240.000060</td>\n",
       "      <td>240.000060</td>\n",
       "      <td>240.000060</td>\n",
       "      <td>0.000000</td>\n",
       "    </tr>\n",
       "    <tr>\n",
       "      <th>2015-03-01 00:20:00</th>\n",
       "      <td>1425169200</td>\n",
       "      <td>240.000060</td>\n",
       "      <td>240.000060</td>\n",
       "      <td>240.000060</td>\n",
       "      <td>240.000060</td>\n",
       "      <td>0.000000</td>\n",
       "    </tr>\n",
       "    <tr>\n",
       "      <th>...</th>\n",
       "      <td>...</td>\n",
       "      <td>...</td>\n",
       "      <td>...</td>\n",
       "      <td>...</td>\n",
       "      <td>...</td>\n",
       "      <td>...</td>\n",
       "    </tr>\n",
       "    <tr>\n",
       "      <th>2021-03-31 23:35:00</th>\n",
       "      <td>1617233700</td>\n",
       "      <td>58802.587059</td>\n",
       "      <td>58761.857003</td>\n",
       "      <td>58801.000000</td>\n",
       "      <td>58762.000000</td>\n",
       "      <td>29415.195318</td>\n",
       "    </tr>\n",
       "    <tr>\n",
       "      <th>2021-03-31 23:40:00</th>\n",
       "      <td>1617234000</td>\n",
       "      <td>58798.268464</td>\n",
       "      <td>58744.683295</td>\n",
       "      <td>58762.000000</td>\n",
       "      <td>58795.050899</td>\n",
       "      <td>169054.589184</td>\n",
       "    </tr>\n",
       "    <tr>\n",
       "      <th>2021-03-31 23:45:00</th>\n",
       "      <td>1617234300</td>\n",
       "      <td>58866.551166</td>\n",
       "      <td>58795.050899</td>\n",
       "      <td>58795.050899</td>\n",
       "      <td>58810.585631</td>\n",
       "      <td>4315.762275</td>\n",
       "    </tr>\n",
       "    <tr>\n",
       "      <th>2021-03-31 23:50:00</th>\n",
       "      <td>1617234600</td>\n",
       "      <td>58786.410021</td>\n",
       "      <td>58709.119709</td>\n",
       "      <td>58786.410021</td>\n",
       "      <td>58718.472331</td>\n",
       "      <td>40985.687257</td>\n",
       "    </tr>\n",
       "    <tr>\n",
       "      <th>2021-03-31 23:55:00</th>\n",
       "      <td>1617234900</td>\n",
       "      <td>58782.756274</td>\n",
       "      <td>58658.655257</td>\n",
       "      <td>58723.298934</td>\n",
       "      <td>58743.337525</td>\n",
       "      <td>51866.295034</td>\n",
       "    </tr>\n",
       "  </tbody>\n",
       "</table>\n",
       "<p>639975 rows × 6 columns</p>\n",
       "</div>"
      ],
      "text/plain": [
       "                          epoch          high           low          open  \\\n",
       "date                                                                        \n",
       "2015-03-01 00:00:00  1425168000    240.000060    240.000060    240.000060   \n",
       "2015-03-01 00:05:00  1425168300    240.000060    240.000060    240.000060   \n",
       "2015-03-01 00:10:00  1425168600    240.000060    240.000060    240.000060   \n",
       "2015-03-01 00:15:00  1425168900    240.000060    240.000060    240.000060   \n",
       "2015-03-01 00:20:00  1425169200    240.000060    240.000060    240.000060   \n",
       "...                         ...           ...           ...           ...   \n",
       "2021-03-31 23:35:00  1617233700  58802.587059  58761.857003  58801.000000   \n",
       "2021-03-31 23:40:00  1617234000  58798.268464  58744.683295  58762.000000   \n",
       "2021-03-31 23:45:00  1617234300  58866.551166  58795.050899  58795.050899   \n",
       "2021-03-31 23:50:00  1617234600  58786.410021  58709.119709  58786.410021   \n",
       "2021-03-31 23:55:00  1617234900  58782.756274  58658.655257  58723.298934   \n",
       "\n",
       "                            close         volume  \n",
       "date                                              \n",
       "2015-03-01 00:00:00    240.000060       0.000000  \n",
       "2015-03-01 00:05:00    240.000060       0.000000  \n",
       "2015-03-01 00:10:00    240.000060       0.000000  \n",
       "2015-03-01 00:15:00    240.000060       0.000000  \n",
       "2015-03-01 00:20:00    240.000060       0.000000  \n",
       "...                           ...            ...  \n",
       "2021-03-31 23:35:00  58762.000000   29415.195318  \n",
       "2021-03-31 23:40:00  58795.050899  169054.589184  \n",
       "2021-03-31 23:45:00  58810.585631    4315.762275  \n",
       "2021-03-31 23:50:00  58718.472331   40985.687257  \n",
       "2021-03-31 23:55:00  58743.337525   51866.295034  \n",
       "\n",
       "[639975 rows x 6 columns]"
      ]
     },
     "execution_count": 2,
     "metadata": {},
     "output_type": "execute_result"
    }
   ],
   "source": [
    "min_period = 300\n",
    "N = 14\n",
    "df = pd.read_csv(f\"data/USDT_BTC_{min_period}_1425168000_73.csv\")\n",
    "df.rename(columns={'date':'epoch','ts':'date'},inplace=True)\n",
    "assert df.loc[0,'period'] == min_period, \"Error, period different from min_period\"\n",
    "assert df['period'].count() == df.shape[0], \"Error, period not always is min_period\" \n",
    "df.drop(columns=['period','currency_pair','quoteVolume','weightedAverage'],inplace=True)\n",
    "df['date'] = pd.to_datetime(df['date'])\n",
    "df.sort_values(by=\"date\") #just in case\n",
    "df.set_index('date',inplace=True)\n",
    "df"
   ]
  },
  {
   "cell_type": "code",
   "execution_count": 3,
   "id": "elementary-borough",
   "metadata": {},
   "outputs": [],
   "source": [
    "daily_df = df.resample('D').agg({'epoch':'first','high':'max','low':'min','open':'first','close':'last','volume':'sum'})"
   ]
  },
  {
   "cell_type": "code",
   "execution_count": 4,
   "id": "incorporated-possibility",
   "metadata": {
    "scrolled": true
   },
   "outputs": [],
   "source": [
    "def rsi(close,n):\n",
    "    '''\n",
    "    close is a pandas series\n",
    "    n is the period for smooth in exponential means\n",
    "    return a pandas series as rsi\n",
    "    '''\n",
    "    \n",
    "    delta = close - close.shift(1) \n",
    "    delta = delta.dropna()\n",
    "    \n",
    "    closeup = delta.mask(delta < 0, 0)\n",
    "    closedown = delta.mask(delta > 0,0).abs()\n",
    "    \n",
    "\n",
    "    closeup[closeup.index[n-1]]= closeup[:n].mean()\n",
    "    closeup = closeup.drop(closeup.index[:n-1])\n",
    "    avg_closeup = closeup.ewm(com=n-1,adjust=False).mean() \n",
    "\n",
    "    closedown[closedown.index[n-1]]= closedown[:n].mean()\n",
    "    closedown = closedown.drop(closedown.index[:n-1])\n",
    "    avg_closedown = closedown.ewm(com=n-1,adjust=False).mean()\n",
    "\n",
    "    rsi = avg_closeup / (avg_closedown + avg_closeup)\n",
    "\n",
    "    return rsi"
   ]
  },
  {
   "cell_type": "code",
   "execution_count": 5,
   "id": "square-aggregate",
   "metadata": {},
   "outputs": [],
   "source": [
    " #+- 2 days -> weekly extrema for divergence better a smaller order for earlier detection\n",
    "price_min_positions = argrelextrema(daily_df.low.values, np.less_equal, order=2)[0] \n",
    "price_max_positions = argrelextrema(daily_df.high.values, np.greater_equal, order=2)[0]"
   ]
  },
  {
   "cell_type": "code",
   "execution_count": 6,
   "id": "guided-witness",
   "metadata": {},
   "outputs": [
    {
     "name": "stdout",
     "output_type": "stream",
     "text": [
      "[   0   18   23   25   26   32   40   44   49   56   66   67   68   71\n",
      "   74   79   85   93   97  102  103  111  115  125  129  132  140  144\n",
      "  145  153  166  170  177  183  196  197  205  211  218  235  250  255\n",
      "  259  260  264  269  276  286  295  300  305  308  311  321  327  334\n",
      "  339  343  348  361  364  370  374  379  383  390  394  395  405  424\n",
      "  428  438  447  464  471  480  483  486  491  494  509  513  520  524\n",
      "  532  537  546  552  560  566  570  584  598  604  610  613  617  623\n",
      "  630  636  645  651  670  678  682  696  711  715  722  726  740  748\n",
      "  755  774  796  804  807  818  830  837  849  853  863  868  878  882\n",
      "  898  902  905  911  919  924  929  936  949  962  969  972  987  999\n",
      " 1004 1015 1027 1035 1044 1047 1053 1059 1062 1073 1092 1104 1110 1113\n",
      " 1118 1127 1132 1143 1152 1157 1168 1174 1180 1185 1192 1200 1211 1215\n",
      " 1229 1238 1244 1259 1262 1268 1278 1287 1298 1304 1312 1316 1321 1329\n",
      " 1340 1343 1351 1355 1360 1365 1377 1385 1397 1402 1405 1414 1423 1430\n",
      " 1440 1446 1456 1459 1464 1468 1474 1481 1486 1503 1506 1512 1516 1520\n",
      " 1538 1544 1551 1556 1561 1579 1584 1587 1599 1606 1610 1628 1635 1642\n",
      " 1650 1655 1660 1663 1672 1681 1692 1697 1705 1713 1717 1720 1727 1730\n",
      " 1739 1753 1762 1769 1776 1785 1790 1801 1808 1816 1827 1839 1842 1849\n",
      " 1856 1867 1870 1873 1878 1891 1897 1908 1912 1920 1925 1929 1933 1938\n",
      " 1945 1950 1953 1958 1964 1981 1990 2001 2004 2014 2018 2033 2042 2056\n",
      " 2066 2073 2093 2097 2106 2112 2122 2136 2143 2149 2154 2159 2178 2186\n",
      " 2191 2196 2207 2216]\n",
      "[   4   12   15   22   27   32   35   39   40   47   52   53   60   68\n",
      "   69   75   79   84   85   89   98  102  103  104  110  113  121  127\n",
      "  133  137  142  146  150  155  156  164  174  181  182  185  190  194\n",
      "  201  202  208  212  220  230  238  248  262  271  274  286  290  293\n",
      "  298  303  307  313  325  341  348  353  357  366  376  382  389  392\n",
      "  405  408  417  421  425  432  435  441  448  455  461  464  470  475\n",
      "  482  489  499  504  527  533  541  547  553  557  560  567  576  580\n",
      "  587  591  595  596  601  608  613  616  619  629  633  642  653  663\n",
      "  668  676  682  685  689  693  699  706  711  726  733  740  745  751\n",
      "  758  767  772  789  795  802  816  828  833  842  850  856  865  872\n",
      "  880  884  891  900  908  916  921  926  932  946  959  965  980  983\n",
      "  996 1004 1013 1016 1022 1032 1042 1056 1061 1064 1077 1087 1100 1107\n",
      " 1116 1129 1135 1141 1151 1155 1161 1170 1176 1190 1194 1206 1212 1219\n",
      " 1226 1237 1242 1246 1255 1263 1266 1270 1276 1283 1293 1301 1307 1310\n",
      " 1314 1317 1324 1330 1347 1353 1369 1379 1391 1394 1398 1403 1409 1415\n",
      " 1420 1427 1434 1440 1456 1460 1469 1476 1481 1494 1501 1514 1525 1535\n",
      " 1540 1548 1551 1554 1559 1569 1578 1586 1592 1602 1619 1633 1639 1650\n",
      " 1656 1664 1675 1685 1695 1700 1709 1734 1739 1744 1748 1753 1758 1761\n",
      " 1764 1774 1777 1785 1788 1796 1810 1816 1820 1821 1828 1833 1846 1851\n",
      " 1859 1864 1875 1880 1887 1890 1894 1901 1905 1919 1928 1934 1940 1949\n",
      " 1956 1960 1975 1981 1986 1989 1996 2003 2011 2020 2026 2029 2038 2041\n",
      " 2052 2055 2061 2068 2071 2077 2084 2092 2096 2102 2108 2121 2128 2135\n",
      " 2140 2146 2151 2157 2161 2184 2194 2204 2209 2222]\n"
     ]
    }
   ],
   "source": [
    "print(price_min_positions)\n",
    "print(price_max_positions)"
   ]
  },
  {
   "cell_type": "code",
   "execution_count": 7,
   "id": "forward-stanley",
   "metadata": {},
   "outputs": [
    {
     "name": "stdout",
     "output_type": "stream",
     "text": [
      "date\n",
      "2015-03-01      240.000060\n",
      "2015-03-19      248.821580\n",
      "2015-03-24      242.525500\n",
      "2015-03-26      242.525500\n",
      "2015-03-27      242.525500\n",
      "                  ...     \n",
      "2021-02-23    45000.000000\n",
      "2021-02-28    43000.000000\n",
      "2021-03-05    46325.000000\n",
      "2021-03-16    53297.884124\n",
      "2021-03-25    50483.383394\n",
      "Name: low, Length: 298, dtype: float64\n"
     ]
    }
   ],
   "source": [
    "print(daily_df.iloc[price_min_positions].low)"
   ]
  },
  {
   "cell_type": "code",
   "execution_count": 8,
   "id": "irish-terror",
   "metadata": {
    "scrolled": true
   },
   "outputs": [
    {
     "name": "stdout",
     "output_type": "stream",
     "text": [
      "date\n",
      "2015-03-05      280.890000\n",
      "2015-03-13      301.000000\n",
      "2015-03-16      301.000000\n",
      "2015-03-23      274.298098\n",
      "2015-03-28      258.880679\n",
      "                  ...     \n",
      "2021-02-21    58320.000000\n",
      "2021-03-03    52605.813647\n",
      "2021-03-13    61799.000000\n",
      "2021-03-18    60081.000000\n",
      "2021-03-31    59782.490733\n",
      "Name: high, Length: 318, dtype: float64\n"
     ]
    }
   ],
   "source": [
    "print(daily_df.iloc[price_max_positions].high)"
   ]
  },
  {
   "cell_type": "code",
   "execution_count": 9,
   "id": "banner-drink",
   "metadata": {},
   "outputs": [],
   "source": [
    "price_maximums = daily_df.iloc[price_max_positions].high\n",
    "price_minimums = daily_df.iloc[price_min_positions].low"
   ]
  },
  {
   "cell_type": "code",
   "execution_count": 10,
   "id": "subsequent-detroit",
   "metadata": {},
   "outputs": [
    {
     "name": "stdout",
     "output_type": "stream",
     "text": [
      "date\n",
      "2015-03-05      280.890000\n",
      "2015-03-13      301.000000\n",
      "2015-03-16      301.000000\n",
      "2015-03-23      274.298098\n",
      "2015-03-28      258.880679\n",
      "                  ...     \n",
      "2021-02-21    58320.000000\n",
      "2021-03-03    52605.813647\n",
      "2021-03-13    61799.000000\n",
      "2021-03-18    60081.000000\n",
      "2021-03-31    59782.490733\n",
      "Name: high, Length: 318, dtype: float64\n",
      "<class 'pandas.core.series.Series'>\n"
     ]
    }
   ],
   "source": [
    "print(price_maximums)\n",
    "print(type(price_maximums))"
   ]
  },
  {
   "cell_type": "code",
   "execution_count": 11,
   "id": "eligible-boulder",
   "metadata": {},
   "outputs": [
    {
     "name": "stdout",
     "output_type": "stream",
     "text": [
      "date\n",
      "2015-03-01      240.000060\n",
      "2015-03-19      248.821580\n",
      "2015-03-24      242.525500\n",
      "2015-03-26      242.525500\n",
      "2015-03-27      242.525500\n",
      "                  ...     \n",
      "2021-02-23    45000.000000\n",
      "2021-02-28    43000.000000\n",
      "2021-03-05    46325.000000\n",
      "2021-03-16    53297.884124\n",
      "2021-03-25    50483.383394\n",
      "Name: low, Length: 298, dtype: float64\n",
      "<class 'pandas.core.series.Series'>\n"
     ]
    }
   ],
   "source": [
    "print(price_minimums)\n",
    "print(type(price_minimums))"
   ]
  },
  {
   "cell_type": "code",
   "execution_count": 12,
   "id": "civic-canon",
   "metadata": {},
   "outputs": [],
   "source": [
    "price_min_diff =  price_minimums - price_minimums.shift(1)\n",
    "price_max_diff =  price_maximums - price_maximums.shift(1)"
   ]
  },
  {
   "cell_type": "code",
   "execution_count": 13,
   "id": "another-substance",
   "metadata": {},
   "outputs": [
    {
     "data": {
      "text/plain": [
       "date\n",
       "2015-03-05             NaN\n",
       "2015-03-13    2.011000e+01\n",
       "2015-03-16   -9.000001e-08\n",
       "2015-03-23   -2.670190e+01\n",
       "2015-03-28   -1.541742e+01\n",
       "                  ...     \n",
       "2021-02-21    1.994000e+04\n",
       "2021-03-03   -5.714186e+03\n",
       "2021-03-13    9.193186e+03\n",
       "2021-03-18   -1.718000e+03\n",
       "2021-03-31   -2.985093e+02\n",
       "Name: high, Length: 318, dtype: float64"
      ]
     },
     "execution_count": 13,
     "metadata": {},
     "output_type": "execute_result"
    }
   ],
   "source": [
    "price_max_diff"
   ]
  },
  {
   "cell_type": "code",
   "execution_count": 14,
   "id": "rapid-corporation",
   "metadata": {},
   "outputs": [],
   "source": [
    "daily_df['rsi'] = rsi(daily_df.close,14)"
   ]
  },
  {
   "cell_type": "code",
   "execution_count": 15,
   "id": "alleged-reply",
   "metadata": {},
   "outputs": [],
   "source": [
    " #+- 2 days -> weekly extrema for divergence better a smaller order for earlier detection\n",
    "rsi_min_positions = argrelextrema(daily_df.rsi.values, np.less_equal, order=2)[0] \n",
    "rsi_max_positions = argrelextrema(daily_df.rsi.values, np.greater_equal, order=2)[0]"
   ]
  },
  {
   "cell_type": "code",
   "execution_count": 16,
   "id": "surprising-buyer",
   "metadata": {},
   "outputs": [],
   "source": [
    "rsi_maximums = daily_df.iloc[rsi_max_positions].rsi\n",
    "rsi_minimums = daily_df.iloc[rsi_min_positions].rsi"
   ]
  },
  {
   "cell_type": "code",
   "execution_count": 17,
   "id": "innovative-armor",
   "metadata": {},
   "outputs": [],
   "source": [
    "rsi_min_diff =  rsi_minimums - rsi_minimums.shift(1)\n",
    "rsi_max_diff =  rsi_maximums - rsi_maximums.shift(1)"
   ]
  },
  {
   "cell_type": "code",
   "execution_count": 18,
   "id": "subjective-marks",
   "metadata": {},
   "outputs": [
    {
     "data": {
      "text/plain": [
       "date\n",
       "2015-03-22         NaN\n",
       "2015-03-27   -0.065898\n",
       "2015-03-30    0.010769\n",
       "2015-04-03    0.008364\n",
       "2015-04-06   -0.002002\n",
       "                ...   \n",
       "2021-03-03   -0.232204\n",
       "2021-03-13    0.153025\n",
       "2021-03-17   -0.096633\n",
       "2021-03-20   -0.023660\n",
       "2021-03-30   -0.002209\n",
       "Name: rsi, Length: 341, dtype: float64"
      ]
     },
     "execution_count": 18,
     "metadata": {},
     "output_type": "execute_result"
    }
   ],
   "source": [
    "rsi_max_diff"
   ]
  },
  {
   "cell_type": "code",
   "execution_count": 19,
   "id": "industrial-occasion",
   "metadata": {},
   "outputs": [],
   "source": [
    "daily_df['correlationH'] = daily_df.high.rolling(3).corr(daily_df.rsi)\n",
    "daily_df['correlationL'] = daily_df.low.rolling(3).corr(daily_df.rsi)"
   ]
  },
  {
   "cell_type": "code",
   "execution_count": 20,
   "id": "formed-rescue",
   "metadata": {},
   "outputs": [
    {
     "data": {
      "text/plain": [
       "count    2207.000000\n",
       "mean             inf\n",
       "std              NaN\n",
       "min        -0.999970\n",
       "25%         0.293819\n",
       "50%         0.785248\n",
       "75%         0.965051\n",
       "max              inf\n",
       "Name: correlationL, dtype: float64"
      ]
     },
     "execution_count": 20,
     "metadata": {},
     "output_type": "execute_result"
    }
   ],
   "source": [
    "daily_df.dropna(inplace=True)\n",
    "daily_df.correlationH.describe()\n",
    "daily_df.correlationL.describe()"
   ]
  },
  {
   "cell_type": "code",
   "execution_count": null,
   "id": "placed-agent",
   "metadata": {},
   "outputs": [],
   "source": []
  },
  {
   "cell_type": "code",
   "execution_count": 21,
   "id": "administrative-kentucky",
   "metadata": {},
   "outputs": [
    {
     "data": {
      "application/vnd.jupyter.widget-view+json": {
       "model_id": "f1864c4b33364f30b4c67a6e180329b1",
       "version_major": 2,
       "version_minor": 0
      },
      "text/plain": [
       "Canvas(toolbar=Toolbar(toolitems=[('Home', 'Reset original view', 'home', 'home'), ('Back', 'Back to previous …"
      ]
     },
     "metadata": {},
     "output_type": "display_data"
    },
    {
     "data": {
      "text/plain": [
       "[<matplotlib.lines.Line2D at 0x7fc74a132880>]"
      ]
     },
     "execution_count": 21,
     "metadata": {},
     "output_type": "execute_result"
    }
   ],
   "source": [
    "\n",
    "plt.style.use(\"seaborn\")\n",
    "fig, (ax1,ax2,ax3,ax4) = plt.subplots(nrows=4,ncols=1)\n",
    "daily_df = daily_df.loc[\"2020-01\":\"2020-02\"]\n",
    "ax1.plot(daily_df.low)\n",
    "ax2.plot(daily_df.high)\n",
    "ax3.plot(daily_df.correlationH)\n",
    "ax4.plot(daily_df.correlationL)"
   ]
  }
 ],
 "metadata": {
  "kernelspec": {
   "display_name": "Python 3",
   "language": "python",
   "name": "python3"
  },
  "language_info": {
   "codemirror_mode": {
    "name": "ipython",
    "version": 3
   },
   "file_extension": ".py",
   "mimetype": "text/x-python",
   "name": "python",
   "nbconvert_exporter": "python",
   "pygments_lexer": "ipython3",
   "version": "3.8.5"
  }
 },
 "nbformat": 4,
 "nbformat_minor": 5
}
